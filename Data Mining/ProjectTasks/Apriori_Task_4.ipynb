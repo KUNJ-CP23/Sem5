{
 "cells": [
  {
   "cell_type": "markdown",
   "id": "1422b500",
   "metadata": {},
   "source": [
    "# Apriori Algorithm Implementation Assignment\n",
    "\n",
    "### Objective:\n",
    "You will implement the **Apriori algorithm** from scratch (i.e., without using any libraries like `mlxtend`) to find frequent itemsets and generate association rules.\n",
    "\n",
    "### Dataset:\n",
    "Use the [Online Retail Dataset](https://www.kaggle.com/datasets/vijayuv/onlineretail) from Kaggle. You can filter it for a specific country (e.g., `United Kingdom`) and time range to reduce size if needed.\n",
    "\n",
    "---"
   ]
  },
  {
   "cell_type": "code",
   "execution_count": 2,
   "id": "70f3d67a",
   "metadata": {},
   "outputs": [],
   "source": [
    "import pandas as pd"
   ]
  },
  {
   "cell_type": "markdown",
   "id": "f85128a0",
   "metadata": {},
   "source": [
    "## Step 1: Data Preprocessing\n",
    "\n",
    "- Load the dataset\n",
    "- Remove rows with missing values\n",
    "- Filter out rows where `Quantity <= 0`\n",
    "- Convert Data into Basket Format\n",
    "\n",
    "👉 **Implement code below**"
   ]
  },
  {
   "cell_type": "code",
   "execution_count": 3,
   "id": "fd66a2e0",
   "metadata": {},
   "outputs": [
    {
     "name": "stderr",
     "output_type": "stream",
     "text": [
      "C:\\Users\\kunjp\\AppData\\Local\\Temp\\ipykernel_10528\\2429339532.py:16: FutureWarning: DataFrame.applymap has been deprecated. Use DataFrame.map instead.\n",
      "  basket = basket.applymap(lambda x: 1 if x > 0 else 0)\n"
     ]
    }
   ],
   "source": [
    "# Load the dataset\n",
    "df = pd.read_csv(r\"C:\\Ddrive data\\Sem 5 Labs\\Data Mining\\ProjectTasks\\Datasets\\OnlineRetail.csv\", encoding='ISO-8859-1')\n",
    "# Preprocess as per the instructions above | We have already done in TASK 2\n",
    "\n",
    "# Remove missing values\n",
    "df.dropna(subset=[\"InvoiceNo\", \"Description\"], inplace=True)\n",
    "\n",
    "# Filter for Quantity <= 0\n",
    "df = df[df[\"Quantity\"] > 0]\n",
    "\n",
    "# Filter for a specific country (United Kingdom)\n",
    "df = df[df[\"Country\"] == \"United Kingdom\"]\n",
    "\n",
    "# for Basket\n",
    "basket = df.groupby(['InvoiceNo', 'Description'])['Quantity'].sum().unstack().reset_index().fillna(0).set_index('InvoiceNo')\n",
    "basket = basket.applymap(lambda x: 1 if x > 0 else 0)"
   ]
  },
  {
   "cell_type": "markdown",
   "id": "2a37baf6",
   "metadata": {},
   "source": [
    "## Step 2: Implement Apriori Algorithm\n",
    "Step-by-Step Procedure:\n",
    "1. Generate Frequent 1-Itemsets\n",
    "Count the frequency (support) of each individual item in the dataset.\n",
    "Keep only those with support ≥ min_support.\n",
    "→ Result is L1 (frequent 1-itemsets)\n",
    "2. Iterative Candidate Generation (k = 2 to n)\n",
    "While L(k-1) is not empty:\n",
    "a. Candidate Generation\n",
    "\n",
    "Generate candidate itemsets Ck of size k from L(k-1) using the Apriori property:\n",
    "Any (k-itemset) is only frequent if all of its (k−1)-subsets are frequent.\n",
    "b. Prune Candidates\n",
    "Eliminate candidates that have any (k−1)-subset not in L(k-1).\n",
    "c. Count Support\n",
    "For each transaction, count how many times each candidate in Ck appears.\n",
    "d. Generate Frequent Itemsets\n",
    "Form Lk by keeping candidates from Ck that meet the min_support.\n",
    "Repeat until Lk becomes empty.\n",
    "Implement the following functions:\n",
    "1. `get_frequent_itemsets(transactions, min_support)` - Returns frequent itemsets and their support\n",
    "2. `generate_candidates(prev_frequent_itemsets, k)` - Generates candidate itemsets of length `k`\n",
    "3. `calculate_support(transactions, candidates)` - Calculates the support count for each candidate\n",
    "\n",
    "**Write reusable functions** for each part of the algorithm."
   ]
  },
  {
   "cell_type": "code",
   "execution_count": null,
   "id": "b8f9310a",
   "metadata": {},
   "outputs": [],
   "source": [
    "# Step 1: Generate Frequent 1-itemsets\n",
    "def get_frequent_itemsets(transactions, min_support):\n",
    "    n = len(transactions)\n",
    "    \n",
    "    # Count support for each single item\n",
    "    item_counts = {}\n",
    "    for transaction in transactions:\n",
    "        for item in transaction:\n",
    "            item_counts[frozenset([item])] = item_counts.get(frozenset([item]), 0) + 1\n",
    "\n",
    "    # Keep only items with support >= min_support\n",
    "    frequent_itemsets = {item: count / n for item, count in item_counts.items()\n",
    "                         if count / n >= min_support}\n",
    "    return frequent_itemsets\n",
    "\n",
    "\n",
    "# Step 2: Generate candidates manually\n",
    "def generate_candidates(prev_frequent_itemsets, k):\n",
    "    candidates = set()\n",
    "    prev_items = list(prev_frequent_itemsets.keys())\n",
    "    \n",
    "    for i in range(len(prev_items)):\n",
    "        for j in range(i + 1, len(prev_items)):\n",
    "            # Join step: take union of two sets\n",
    "            union_set = prev_items[i] | prev_items[j]\n",
    "            \n",
    "            # Only consider if size = k\n",
    "            if len(union_set) == k:\n",
    "                # Prune step: check all (k-1) subsets are frequent\n",
    "                all_subsets_frequent = True\n",
    "                for subset in union_set:\n",
    "                    subset_set = union_set - frozenset([subset])\n",
    "                    if subset_set not in prev_frequent_itemsets:\n",
    "                        all_subsets_frequent = False\n",
    "                        break\n",
    "                if all_subsets_frequent:\n",
    "                    candidates.add(union_set)\n",
    "    return candidates\n",
    "\n",
    "\n",
    "# Step 3: Calculate support of candidates\n",
    "def calculate_support(transactions, candidates, min_support):\n",
    "    n = len(transactions)\n",
    "    support_data = {}\n",
    "    \n",
    "    for candidate in candidates:\n",
    "        count = 0\n",
    "        for transaction in transactions:\n",
    "            if candidate.issubset(transaction):\n",
    "                count += 1\n",
    "        support = count / n\n",
    "        if support >= min_support:\n",
    "            support_data[candidate] = round(support, 2)\n",
    "    return support_data\n",
    "\n",
    "\n",
    "# Step 4: Apriori Algorithm\n",
    "def apriori(transactions, min_support=0.5):\n",
    "    result = {}\n",
    "    \n",
    "    # Step 1: L1\n",
    "    L1 = get_frequent_itemsets(transactions, min_support)\n",
    "    result.update(L1)\n",
    "    \n",
    "    k = 2\n",
    "    Lk = L1\n",
    "    while Lk:\n",
    "        # Step 2: Generate candidates from L(k-1)\n",
    "        candidates = generate_candidates(Lk, k)\n",
    "        \n",
    "        # Step 3: Calculate support\n",
    "        Lk = calculate_support(transactions, candidates, min_support)\n",
    "        \n",
    "        # Save results\n",
    "        result.update(Lk)\n",
    "        k += 1\n",
    "    return result\n"
   ]
  },
  {
   "cell_type": "markdown",
   "id": "6cb8c0fe",
   "metadata": {},
   "source": [
    "## Step 3: Generate Association Rules\n",
    "\n",
    "- Use frequent itemsets to generate association rules\n",
    "- For each rule `A => B`, calculate:\n",
    "  - **Support**\n",
    "  - **Confidence**\n",
    "- Only return rules that meet a minimum confidence threshold (e.g., 0.5)\n",
    "\n",
    "👉 **Implement rule generation function below**"
   ]
  },
  {
   "cell_type": "code",
   "execution_count": null,
   "id": "97bc236e",
   "metadata": {},
   "outputs": [],
   "source": [
    "def generate_subsets(itemset):\n",
    "    \"\"\"Generate all non-empty proper subsets of an itemset using bit masking.\"\"\"\n",
    "    item_list = list(itemset)\n",
    "    n = len(item_list)\n",
    "    subsets = []\n",
    "    \n",
    "    for mask in range(1, 2**n - 1):  # exclude 0 (empty set) and full set\n",
    "        subset = frozenset(item_list[i] for i in range(n) if mask & (1 << i))\n",
    "        subsets.append(subset)\n",
    "    return subsets\n",
    "\n",
    "\n",
    "def generate_association_rules(frequent_itemsets, min_confidence=0.5):\n",
    "    rules = []\n",
    "    \n",
    "    for itemset, support in frequent_itemsets.items():\n",
    "        if len(itemset) >= 2:  # only for 2+ items\n",
    "            for lhs in generate_subsets(itemset):\n",
    "                rhs = itemset - lhs\n",
    "                if lhs in frequent_itemsets:\n",
    "                    confidence = support / frequent_itemsets[lhs]\n",
    "                    if confidence >= min_confidence:\n",
    "                        rules.append({\n",
    "                            'lhs': set(lhs),\n",
    "                            'rhs': set(rhs),\n",
    "                            'support': support,\n",
    "                            'confidence': round(confidence, 2)\n",
    "                        })\n",
    "    return rules\n",
    "\n"
   ]
  },
  {
   "cell_type": "markdown",
   "id": "0cf26889",
   "metadata": {},
   "source": [
    "## Step 4: Output and Visualize\n",
    "\n",
    "- Print top 10 frequent itemsets\n",
    "- Print top 10 association rules (by confidence or lift)\n",
    "\n",
    "👉 **Output results below**"
   ]
  },
  {
   "cell_type": "code",
   "execution_count": null,
   "id": "f3443a37",
   "metadata": {},
   "outputs": [
    {
     "name": "stdout",
     "output_type": "stream",
     "text": [
      "🔹 Top 10 Frequent Itemsets:\n",
      "\n",
      "\n",
      "🔹 Top 10 Association Rules (by confidence):\n"
     ]
    }
   ],
   "source": [
    "# Step 4: Output and Visualize\n",
    "#to print output\n",
    "\n",
    "# Get frequent itemsets\n",
    "frequent_itemsets = get_frequent_itemsets(df, min_support=0.3)\n",
    "\n",
    "# Sort by support (descending) and take top 10\n",
    "top_itemsets = sorted(frequent_itemsets, key=lambda x: x[1], reverse=True)[:10]\n",
    "print(\"🔹 Top 10 Frequent Itemsets:\")\n",
    "for itemset, support in top_itemsets:\n",
    "    print(f\"{set(itemset)} -> support: {support}\")\n",
    "\n",
    "print(\"\\n\")\n",
    "\n",
    "# Generate association rules\n",
    "rules = generate_association_rules(frequent_itemsets, min_confidence=0.5)\n",
    "\n",
    "# Sort rules by confidence (descending) and take top 10\n",
    "top_rules = sorted(rules, key=lambda x: x['confidence'], reverse=True)[:10]\n",
    "print(\"🔹 Top 10 Association Rules (by confidence):\")\n",
    "for r in top_rules:\n",
    "    print(f\"{r['lhs']} => {r['rhs']} | support: {r['support']} | confidence: {r['confidence']}\")\n"
   ]
  },
  {
   "cell_type": "code",
   "execution_count": null,
   "id": "3fd65f4a",
   "metadata": {},
   "outputs": [],
   "source": []
  }
 ],
 "metadata": {
  "kernelspec": {
   "display_name": ".venv",
   "language": "python",
   "name": "python3"
  },
  "language_info": {
   "codemirror_mode": {
    "name": "ipython",
    "version": 3
   },
   "file_extension": ".py",
   "mimetype": "text/x-python",
   "name": "python",
   "nbconvert_exporter": "python",
   "pygments_lexer": "ipython3",
   "version": "3.13.0"
  }
 },
 "nbformat": 4,
 "nbformat_minor": 5
}
