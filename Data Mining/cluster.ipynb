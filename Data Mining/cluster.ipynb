{
 "cells": [
  {
   "cell_type": "code",
   "execution_count": null,
   "id": "46f8f495",
   "metadata": {},
   "outputs": [],
   "source": []
  },
  {
   "cell_type": "code",
   "execution_count": null,
   "id": "9385091f",
   "metadata": {},
   "outputs": [],
   "source": []
  },
  {
   "cell_type": "code",
   "execution_count": 1,
   "id": "6849fc10",
   "metadata": {},
   "outputs": [
    {
     "ename": "ModuleNotFoundError",
     "evalue": "No module named 'networkx'",
     "output_type": "error",
     "traceback": [
      "\u001b[31m---------------------------------------------------------------------------\u001b[39m",
      "\u001b[31mModuleNotFoundError\u001b[39m                       Traceback (most recent call last)",
      "\u001b[36mCell\u001b[39m\u001b[36m \u001b[39m\u001b[32mIn[1]\u001b[39m\u001b[32m, line 1\u001b[39m\n\u001b[32m----> \u001b[39m\u001b[32m1\u001b[39m \u001b[38;5;28;01mimport\u001b[39;00m\u001b[38;5;250m \u001b[39m\u001b[34;01mnetworkx\u001b[39;00m\u001b[38;5;250m \u001b[39m\u001b[38;5;28;01mas\u001b[39;00m\u001b[38;5;250m \u001b[39m\u001b[34;01mnx\u001b[39;00m\n\u001b[32m      2\u001b[39m \u001b[38;5;28;01mimport\u001b[39;00m\u001b[38;5;250m \u001b[39m\u001b[34;01mnumpy\u001b[39;00m\u001b[38;5;250m \u001b[39m\u001b[38;5;28;01mas\u001b[39;00m\u001b[38;5;250m \u001b[39m\u001b[34;01mnp\u001b[39;00m\n\u001b[32m      3\u001b[39m \u001b[38;5;28;01mfrom\u001b[39;00m\u001b[38;5;250m \u001b[39m\u001b[34;01msklearn\u001b[39;00m\u001b[34;01m.\u001b[39;00m\u001b[34;01mcluster\u001b[39;00m\u001b[38;5;250m \u001b[39m\u001b[38;5;28;01mimport\u001b[39;00m SpectralClustering\n",
      "\u001b[31mModuleNotFoundError\u001b[39m: No module named 'networkx'"
     ]
    }
   ],
   "source": [
    "import networkx as nx\n",
    "import numpy as np\n",
    "from sklearn.cluster import SpectralClustering\n",
    "\n",
    "# Step 1: Build the graph\n",
    "edges = [\n",
    "    (\"a\", \"b\"), (\"b\", \"c\"), (\"c\", \"d\"), (\"d\", \"a\"), (\"a\", \"c\"),\n",
    "    (\"e\", \"f\"), (\"f\", \"g\"), (\"e\", \"g\"), (\"c\", \"e\"), (\"b\", \"e\")\n",
    "]\n",
    "G = nx.Graph()\n",
    "G.add_edges_from(edges)\n",
    "\n",
    "# Step 2: Get adjacency matrix\n",
    "nodes = list(G.nodes())\n",
    "A = nx.to_numpy_array(G, nodelist=nodes)\n",
    "\n",
    "# Step 3: Spectral clustering (2 clusters)\n",
    "sc = SpectralClustering(n_clusters=2, affinity='precomputed', random_state=42)\n",
    "labels = sc.fit_predict(A)\n",
    "\n",
    "# Step 4: Group nodes by cluster\n",
    "clusters = {}\n",
    "for node, label in zip(nodes, labels):\n",
    "    clusters.setdefault(label, []).append(node)\n",
    "\n",
    "print(\"Clusters found:\")\n",
    "for cid, members in clusters.items():\n",
    "    print(f\"Cluster {cid+1}: {members}\")\n"
   ]
  },
  {
   "cell_type": "markdown",
   "id": "5f7a1ff4",
   "metadata": {},
   "source": []
  }
 ],
 "metadata": {
  "kernelspec": {
   "display_name": ".venv",
   "language": "python",
   "name": "python3"
  },
  "language_info": {
   "codemirror_mode": {
    "name": "ipython",
    "version": 3
   },
   "file_extension": ".py",
   "mimetype": "text/x-python",
   "name": "python",
   "nbconvert_exporter": "python",
   "pygments_lexer": "ipython3",
   "version": "3.13.0"
  }
 },
 "nbformat": 4,
 "nbformat_minor": 5
}
